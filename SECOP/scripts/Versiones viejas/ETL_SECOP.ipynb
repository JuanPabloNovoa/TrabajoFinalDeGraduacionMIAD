{
 "cells": [
  {
   "cell_type": "markdown",
   "id": "7af4f0d2",
   "metadata": {},
   "source": [
    "# Preprocesamiento datos SECOP I"
   ]
  },
  {
   "cell_type": "markdown",
   "id": "6ca19567",
   "metadata": {},
   "source": [
    "## 1. Importar librerías"
   ]
  },
  {
   "cell_type": "markdown",
   "id": "b2eee482",
   "metadata": {},
   "source": [
    "Iniciar sesión de Spark"
   ]
  },
  {
   "cell_type": "code",
   "execution_count": 1,
   "id": "98409990",
   "metadata": {},
   "outputs": [
    {
     "data": {
      "text/html": [
       "\n",
       "            <div>\n",
       "                <p><b>SparkSession - in-memory</b></p>\n",
       "                \n",
       "        <div>\n",
       "            <p><b>SparkContext</b></p>\n",
       "\n",
       "            <p><a href=\"http://LAPTOP-3O962IKE:4040\">Spark UI</a></p>\n",
       "\n",
       "            <dl>\n",
       "              <dt>Version</dt>\n",
       "                <dd><code>v3.3.1</code></dd>\n",
       "              <dt>Master</dt>\n",
       "                <dd><code>local[*]</code></dd>\n",
       "              <dt>AppName</dt>\n",
       "                <dd><code>SECOP</code></dd>\n",
       "            </dl>\n",
       "        </div>\n",
       "        \n",
       "            </div>\n",
       "        "
      ],
      "text/plain": [
       "<pyspark.sql.session.SparkSession at 0x176943f94b0>"
      ]
     },
     "execution_count": 1,
     "metadata": {},
     "output_type": "execute_result"
    }
   ],
   "source": [
    "import findspark\n",
    "findspark.init()\n",
    "\n",
    "import pyspark\n",
    "from pyspark.sql import SparkSession\n",
    "spark = SparkSession.builder.master(\"local[*]\").appName(\"SECOP\").getOrCreate()\n",
    "spark.conf.set(\"spark.sql.repl.eagerEval.enabled\", True) # para generar mejor formato de tablas\n",
    "spark"
   ]
  },
  {
   "cell_type": "markdown",
   "id": "cc65eaa7",
   "metadata": {},
   "source": [
    "Importar librerías"
   ]
  },
  {
   "cell_type": "code",
   "execution_count": 2,
   "id": "9c04279f",
   "metadata": {},
   "outputs": [],
   "source": [
    "# Librerías básicas\n",
    "import pandas as pd\n",
    "import matplotlib.pyplot as plt\n",
    "import numpy as np\n",
    "import datetime\n",
    "from pyspark.sql import functions as F\n",
    "from pyspark.sql.functions import *"
   ]
  },
  {
   "cell_type": "markdown",
   "id": "50919aa5",
   "metadata": {},
   "source": [
    "## 2. Lectura base de datos SECOP I"
   ]
  },
  {
   "cell_type": "code",
   "execution_count": 3,
   "id": "210a42fb",
   "metadata": {},
   "outputs": [],
   "source": [
    "from pyspark.sql.types import StructType,StructField, StringType, IntegerType, TimestampType, LongType\n",
    "\n",
    "# Definir estructura para lectura de base de datos SECOP I\n",
    "schema_secop = StructType([ \\\n",
    "    StructField('UID', StringType(), True), \\\n",
    "    StructField('Anno Cargue SECOP', IntegerType(), True), \\\n",
    "    StructField('Anno Firma del Contrato', IntegerType(), True), \\\n",
    "    StructField('Nivel Entidad', StringType(), True), \\\n",
    "    StructField('Orden Entidad', StringType(), True), \\\n",
    "    StructField('Nombre de la Entidad', StringType(), True), \\\n",
    "    StructField('NIT de la Entidad', StringType(), True), \\\n",
    "    StructField('Código de la Entidad', StringType(), True), \\\n",
    "    StructField('ID Tipo de Proceso', StringType(), True), \\\n",
    "    StructField('Tipo de Proceso', StringType(), True), \\\n",
    "    StructField('Estado del Proceso', StringType(), True), \\\n",
    "    StructField('Causal de Otras Formas de Contratacion Directa', StringType(), True), \\\n",
    "    StructField('ID Regimen de Contratacion', StringType(), True), \\\n",
    "    StructField('Regimen de Contratacion', StringType(), True), \\\n",
    "    StructField('ID Objeto a Contratar', StringType(), True), \\\n",
    "    StructField('Objeto a Contratar', StringType(), True), \\\n",
    "    StructField('Detalle del Objeto a Contratar', StringType(), True), \\\n",
    "    StructField('Tipo de Contrato', StringType(), True), \\\n",
    "    StructField('Municipio Obtencion', StringType(), True), \\\n",
    "    StructField('Municipio Entrega', StringType(), True), \\\n",
    "    StructField('Municipios Ejecucion', StringType(), True), \\\n",
    "    StructField('Fecha de Cargue en el SECOP', TimestampType(), True), \\\n",
    "    StructField('Numero de Constancia', StringType(), True), \\\n",
    "    StructField('Numero de Proceso', StringType(), True), \\\n",
    "    StructField('Numero del Contrato', StringType(), True), \\\n",
    "    StructField('Cuantia Proceso', StringType(), True), \\\n",
    "    StructField('ID Grupo', StringType(), True), \\\n",
    "    StructField('Nombre Grupo', StringType(), True), \\\n",
    "    StructField('ID Familia', StringType(), True), \\\n",
    "    StructField('Nombre Familia', StringType(), True), \\\n",
    "    StructField('ID Clase', StringType(), True), \\\n",
    "    StructField('Nombre Clase', StringType(), True), \\\n",
    "    StructField('ID Ajudicacion', StringType(), True), \\\n",
    "    StructField('Tipo Identifi del Contratista', StringType(), True), \\\n",
    "    StructField('Identificacion del Contratista', StringType(), True), \\\n",
    "    StructField('Nom Raz Social Contratista', StringType(), True), \\\n",
    "    StructField('Dpto y Muni Contratista', StringType(), True), \\\n",
    "    StructField('Tipo Doc Representante Legal', StringType(), True), \\\n",
    "    StructField('Identific del Represen Legal', StringType(), True), \\\n",
    "    StructField('Nombre del Represen Legal', StringType(), True), \\\n",
    "    StructField('Fecha de Firma del Contrato', TimestampType(), True), \\\n",
    "    StructField('Fecha Ini Ejec Contrato', TimestampType(), True), \\\n",
    "    StructField('Plazo de Ejec del Contrato', IntegerType(), True), \\\n",
    "    StructField('Rango de Ejec del Contrato', StringType(), True), \\\n",
    "    StructField('Tiempo Adiciones en Dias', IntegerType(), True), \\\n",
    "    StructField('Tiempo Adiciones en Meses', IntegerType(), True), \\\n",
    "    StructField('Fecha Fin Ejec Contrato', TimestampType(), True), \\\n",
    "    StructField('Compromiso Presupuestal', StringType(), True), \\\n",
    "    StructField('Cuantia Contrato', StringType(), True), \\\n",
    "    StructField('Valor Total de Adiciones', StringType(), True), \\\n",
    "    StructField('Valor Contrato con Adiciones', StringType(), True), \\\n",
    "    StructField('Objeto del Contrato a la Firma', StringType(), True), \\\n",
    "    StructField('ID Origen de los Recursos', StringType(), True), \\\n",
    "    StructField('Origen de los Recursos', StringType(), True), \\\n",
    "    StructField('Codigo BPIN', StringType(), True), \\\n",
    "    StructField('Proponentes Seleccionados', StringType(), True), \\\n",
    "    StructField('Calificacion Definitiva', StringType(), True), \\\n",
    "    StructField('ID Sub Unidad Ejecutora', StringType(), True), \\\n",
    "    StructField('Nombre Sub Unidad Ejecutora', StringType(), True), \\\n",
    "    StructField('Ruta Proceso en SECOP I', StringType(), True), \\\n",
    "    StructField('Moneda', StringType(), True), \\\n",
    "    StructField('EsPostConflicto', StringType(), True), \\\n",
    "    StructField('Marcacion Adiciones', StringType(), True), \\\n",
    "    StructField('Posicion Rubro', StringType(), True), \\\n",
    "    StructField('Nombre Rubro', StringType(), True), \\\n",
    "    StructField('Valor Rubro', StringType(), True), \\\n",
    "    StructField('Sexo RepLegal Entidad', StringType(), True), \\\n",
    "    StructField('Pilar Acuerdo Paz', StringType(), True), \\\n",
    "    StructField('Punto Acuerdo Paz', StringType(), True), \\\n",
    "    StructField('Municipio Entidad', StringType(), True), \\\n",
    "    StructField('Departamento Entidad', StringType(), True), \\\n",
    "    StructField('Ultima Actualizacion', TimestampType(), True), \\\n",
    "    StructField('Fecha Liquidacion', TimestampType(), True)\n",
    "  ])"
   ]
  },
  {
   "cell_type": "code",
   "execution_count": 4,
   "id": "6baa618c",
   "metadata": {},
   "outputs": [],
   "source": [
    "# Cargar base de datos SECOP I en Spark DataFrame\n",
    "df_secop_crudo = spark.read.csv(\"SECOP.csv\", header=True, schema = schema_secop)\n",
    "#df_secop_crudo.printSchema()"
   ]
  },
  {
   "cell_type": "markdown",
   "id": "263df13c",
   "metadata": {},
   "source": [
    "## 3. Limpieza de datos"
   ]
  },
  {
   "cell_type": "markdown",
   "id": "3f40b596",
   "metadata": {},
   "source": [
    "### 3.1 Eliminar columnas innecesarias"
   ]
  },
  {
   "cell_type": "code",
   "execution_count": 5,
   "id": "40048f59",
   "metadata": {},
   "outputs": [],
   "source": [
    "# Eliminar columnas innecesarias\n",
    "columnas_drop = ('Nombre de la Entidad', 'NIT de la Entidad', 'Código de la Entidad', 'ID Tipo de Proceso', \\\n",
    "                'Causal de Otras Formas de Contratacion Directa', 'ID Regimen de Contratacion', 'Regimen de Contratacion',\\\n",
    "                'ID Objeto a Contratar', 'Municipio Obtencion', 'Municipio Entrega', 'Municipios Ejecucion', \\\n",
    "                'Fecha de Cargue en el SECOP', 'Numero de Constancia', 'Numero de Proceso', 'Numero del Contrato', \\\n",
    "                'ID Grupo', 'ID Familia', 'ID Clase', 'ID Ajudicacion', 'Tipo Identifi del Contratista', \\\n",
    "                'Identificacion del Contratista', 'Nom Raz Social Contratista', 'Dpto y Muni Contratista', \\\n",
    "                'Tipo Doc Representante Legal', 'Identific del Represen Legal', 'Nombre del Represen Legal', \\\n",
    "                'Fecha de Firma del Contrato', 'Compromiso Presupuestal', 'Valor Total de Adiciones', \\\n",
    "                'ID Origen de los Recursos', 'Origen de los Recursos', 'Codigo BPIN', 'Proponentes Seleccionados', \\\n",
    "                'Calificacion Definitiva', 'ID Sub Unidad Ejecutora', 'Nombre Sub Unidad Ejecutora', \\\n",
    "                'Ruta Proceso en SECOP I', 'EsPostConflicto', 'Marcacion Adiciones', 'Posicion Rubro', \\\n",
    "                'Nombre Rubro', 'Valor Rubro', 'Sexo RepLegal Entidad', 'Pilar Acuerdo Paz', 'Punto Acuerdo Paz', \\\n",
    "                'Municipio Entidad', 'Ultima Actualizacion', 'Fecha Liquidacion')\n",
    "\n",
    "df_secop = df_secop_crudo.drop(*columnas_drop)"
   ]
  },
  {
   "cell_type": "markdown",
   "id": "45d35bc4",
   "metadata": {},
   "source": [
    "### 3.2 Cambiar nombre de columnas de interés"
   ]
  },
  {
   "cell_type": "code",
   "execution_count": 6,
   "id": "6ad9d923",
   "metadata": {},
   "outputs": [],
   "source": [
    "# Cambiar nombre de columnas\n",
    "\n",
    "df_secop = df_secop.withColumnRenamed('Anno Cargue SECOP', 'Anno_Cargue_SECOP'). \\\n",
    "                          withColumnRenamed('Anno Firma del Contrato', 'Anno_Firma_Contrato'). \\\n",
    "                          withColumnRenamed('Nivel Entidad', 'Nivel_Entidad'). \\\n",
    "                          withColumnRenamed('Orden Entidad', 'Orden_Entidad'). \\\n",
    "                          withColumnRenamed('Tipo de Proceso', 'Tipo_Proceso'). \\\n",
    "                          withColumnRenamed('Estado del Proceso', 'Estado_Proceso'). \\\n",
    "                          withColumnRenamed('Objeto a Contratar', 'Objeto_Contratar'). \\\n",
    "                          withColumnRenamed('Detalle del Objeto a Contratar', 'Detalle_Objeto_Contratar'). \\\n",
    "                          withColumnRenamed('Tipo de Contrato', 'Tipo_Contrato'). \\\n",
    "                          withColumnRenamed('Cuantia Proceso', 'Cuantia_Proceso'). \\\n",
    "                          withColumnRenamed('Nombre Grupo', 'Nombre_Grupo'). \\\n",
    "                          withColumnRenamed('Nombre Familia', 'Nombre_Familia'). \\\n",
    "                          withColumnRenamed('Nombre Clase', 'Nombre_Clase'). \\\n",
    "                          withColumnRenamed('Fecha Ini Ejec Contrato', 'Fecha_Ini_Ejec_Contrato'). \\\n",
    "                          withColumnRenamed('Plazo de Ejec del Contrato', 'Plazo_Ejec_Contrato'). \\\n",
    "                          withColumnRenamed('Rango de Ejec del Contrato', 'Rango_Ejec_Contrato'). \\\n",
    "                          withColumnRenamed('Tiempo Adiciones en Dias', 'Tiempo_Adiciones_Dias'). \\\n",
    "                          withColumnRenamed('Tiempo Adiciones en Meses', 'Tiempo_Adiciones_Meses'). \\\n",
    "                          withColumnRenamed('Fecha Fin Ejec Contrato', 'Fecha_Fin_Ejec_Contrato'). \\\n",
    "                          withColumnRenamed('Cuantia Contrato', 'Cuantia_Contrato'). \\\n",
    "                          withColumnRenamed('Valor Contrato con Adiciones', 'Valor_Contrato_Total'). \\\n",
    "                          withColumnRenamed('Objeto del Contrato a la Firma', 'Objeto_Contrato_firmado'). \\\n",
    "                          withColumnRenamed('Origen de los Recursos', 'Origen_Recursos'). \\\n",
    "                          withColumnRenamed('Departamento Entidad', 'Departamento_Entidad')"
   ]
  },
  {
   "cell_type": "markdown",
   "id": "920cfe92",
   "metadata": {},
   "source": [
    "### 3.3 Gestión de datos nulos"
   ]
  },
  {
   "cell_type": "markdown",
   "id": "75b9d9c1",
   "metadata": {},
   "source": [
    "#### Ajustar formato de columnas de interés"
   ]
  },
  {
   "cell_type": "code",
   "execution_count": 7,
   "id": "2d80bc9a",
   "metadata": {},
   "outputs": [],
   "source": [
    "# Imputar con cero columnas que tienen números enteros\n",
    "cols_integer = [\"Anno_Cargue_SECOP\", \"Anno_Firma_Contrato\", \"Cuantia_Proceso\", \"Plazo_Ejec_Contrato\", \\\n",
    "               \"Tiempo_Adiciones_Dias\", \"Tiempo_Adiciones_Meses\", \"Cuantia_Contrato\", \"Valor_Contrato_Total\"]\n",
    "\n",
    "df_secop = df_secop.fillna(0, subset = cols_integer)"
   ]
  },
  {
   "cell_type": "code",
   "execution_count": 8,
   "id": "c540982b",
   "metadata": {},
   "outputs": [],
   "source": [
    "# Imputar fechas con valores nulos\n",
    "cols_date = ['Fecha_Ini_Ejec_Contrato', 'Fecha_Fin_Ejec_Contrato']\n",
    "\n",
    "df_secop = df_secop.fillna('1900-01-01 00:00:00', subset = cols_date)\n",
    "#from datetime import datetime, date\n",
    "#fecha_nulo = datetime(1900, 1, 1, 0, 0)\n",
    "#df_secop = df_secop.fillna(str(fecha_nulo), subset = cols_date)"
   ]
  },
  {
   "cell_type": "code",
   "execution_count": 9,
   "id": "f955bb4f",
   "metadata": {},
   "outputs": [],
   "source": [
    "# Imputar valores de texto nulos\n",
    "cols_str = ['UID', 'Nivel_Entidad', 'Orden_Entidad', 'Tipo_Proceso', 'Estado_Proceso', \\\n",
    "            'Objeto_Contratar', 'Detalle_Objeto_Contratar', 'Tipo_Contrato',  \\\n",
    "            'Nombre_Grupo', 'Nombre_Familia', 'Nombre_Clase', 'Rango_Ejec_Contrato', \\\n",
    "            'Objeto_Contrato_firmado', 'Moneda', 'Departamento_Entidad']\n",
    "\n",
    "df_secop = df_secop.fillna('No Definido', subset = cols_str)"
   ]
  },
  {
   "cell_type": "code",
   "execution_count": 10,
   "id": "6d2c8232",
   "metadata": {
    "scrolled": false
   },
   "outputs": [],
   "source": [
    "## Procedimiento para cambiar formato de campos con valores de dinero (1)\n",
    "# Quitar comas\n",
    "from pyspark.sql.functions import udf\n",
    "\n",
    "# Quitar comas de campos con valores de dinero\n",
    "quitar_coma = udf(lambda x: x.replace(',',''))\n",
    "\n",
    "df_secop = df_secop.withColumn('Cuantia_Proceso_Int',quitar_coma('Cuantia_Proceso')). \\\n",
    "                    withColumn('Cuantia_Contrato_Int',quitar_coma('Cuantia_Contrato')). \\\n",
    "                    withColumn('Valor_Contrato_Total_Int',quitar_coma('Valor_Contrato_Total'))"
   ]
  },
  {
   "cell_type": "code",
   "execution_count": 11,
   "id": "29de6ee3",
   "metadata": {},
   "outputs": [],
   "source": [
    "## Procedimiento para cambiar formato de campos con valores de dinero (2)\n",
    "# Quitar números decimales (están precedidos de un punto \".\" )\n",
    "df_secop = df_secop.withColumn(\"Cuantia_Proceso_Int\", F.regexp_extract('Cuantia_Proceso_Int', '[0-9]+', 0)). \\\n",
    "                    withColumn(\"Cuantia_Contrato_Int\", F.regexp_extract('Cuantia_Contrato_Int', '[0-9]+', 0)). \\\n",
    "                    withColumn(\"Valor_Contrato_Total_Int\", F.regexp_extract('Valor_Contrato_Total_Int', '[0-9]+', 0))"
   ]
  },
  {
   "cell_type": "code",
   "execution_count": 12,
   "id": "c940953d",
   "metadata": {},
   "outputs": [],
   "source": [
    "## Procedimiento para cambiar formato de campos con valores de dinero (3)\n",
    "# Cambiar formato de str a long\n",
    "df_secop = df_secop.withColumn(\"Cuantia_Proceso_Int\",df_secop.Cuantia_Proceso_Int.cast(LongType())). \\\n",
    "                    withColumn(\"Cuantia_Contrato_Int\",df_secop.Cuantia_Contrato_Int.cast(LongType())). \\\n",
    "                    withColumn(\"Valor_Contrato_Total_Int\",df_secop.Valor_Contrato_Total_Int.cast(LongType()))\n",
    "\n",
    "# Eliminar columnas con datos originales en formato texto\n",
    "columnas_drop = ('Cuantia_Contrato', 'Valor_Contrato_Total', 'Cuantia_Proceso')\n",
    "df_secop = df_secop.drop(*columnas_drop)"
   ]
  },
  {
   "cell_type": "markdown",
   "id": "e0b540d3",
   "metadata": {},
   "source": [
    "### 3.4 Agregar nueva información a los datos"
   ]
  },
  {
   "cell_type": "markdown",
   "id": "bb48b6c3",
   "metadata": {},
   "source": [
    "#### Agregar valores Año"
   ]
  },
  {
   "cell_type": "code",
   "execution_count": 13,
   "id": "32090061",
   "metadata": {},
   "outputs": [],
   "source": [
    "# Agregar columnas indicando el año de inicio y el año de fin del contrato y dejar en formato int\n",
    "df_secop = df_secop.withColumn(\"Anno_Inicio_Contrato\",year('Fecha_Ini_Ejec_Contrato')). \\\n",
    "                    withColumn(\"Anno_Fin_Contrato\",year('Fecha_Fin_Ejec_Contrato'))\n",
    "\n",
    "columnas_drop = ('Fecha_Ini_Ejec_Contrato', 'Fecha_Fin_Ejec_Contrato')\n",
    "df_secop = df_secop.drop(*columnas_drop)\n",
    "\n",
    "df_secop = df_secop.fillna(0, subset = ['Anno_Inicio_Contrato', 'Anno_Fin_Contrato'])\n",
    "\n",
    "df_secop = df_secop.withColumn(\"Anno_Inicio_Contrato\",df_secop['Anno_Inicio_Contrato'].cast(IntegerType())). \\\n",
    "                    withColumn(\"Anno_Fin_Contrato\",df_secop['Anno_Fin_Contrato'].cast(IntegerType()))"
   ]
  },
  {
   "cell_type": "markdown",
   "id": "1ef6f0a0",
   "metadata": {},
   "source": [
    "#### Modificar Departamento (nombre DANE) y agregar Región DANE"
   ]
  },
  {
   "cell_type": "code",
   "execution_count": 14,
   "id": "1146fe05",
   "metadata": {
    "scrolled": true
   },
   "outputs": [
    {
     "name": "stdout",
     "output_type": "stream",
     "text": [
      "root\n",
      " |-- Dpto_SECOP: string (nullable = true)\n",
      " |-- Dpto_DANE: string (nullable = true)\n",
      " |-- Region_DANE: string (nullable = true)\n",
      "\n"
     ]
    }
   ],
   "source": [
    "# Definir estructura para lectura de base de datos SECOP I\n",
    "schema_dpto_reg = StructType([ \\\n",
    "    StructField('Dpto_SECOP', StringType(), True), \\\n",
    "    StructField('Dpto_DANE', StringType(), True), \\\n",
    "    StructField('Region_DANE', StringType(), True)\n",
    "  ])\n",
    "\n",
    "# Cargar información DANE y equivalencia del Departamento con SECOP\n",
    "df_dpto_reg = spark.read.option(\"delimiter\", \";\").option(\"header\", True).csv(\"Regiones_Departamentos.csv\")\n",
    "df_dpto_reg.printSchema()\n",
    "\n",
    "# Crear diccionarios para cambiar departamento (según descripción DANE) y agregar Región DANE\n",
    "df_dpto_reg_pd = df_dpto_reg.toPandas()\n",
    "df_dpto_reg_pd.set_index('Dpto_SECOP', inplace = True)\n",
    "dict_dpto = df_dpto_reg_pd['Dpto_DANE'].to_dict()  # Diccionario Dpto Secop -> DANE\n",
    "dict_reg = df_dpto_reg_pd['Region_DANE'].to_dict()  # Diccionario Dpto DANE -> Región DANE"
   ]
  },
  {
   "cell_type": "code",
   "execution_count": 15,
   "id": "43eee31e",
   "metadata": {},
   "outputs": [],
   "source": [
    "# Crear función para traducir según diccionario\n",
    "def traductor(dictionary):\n",
    "    return udf(lambda col: dictionary.get(col), StringType())"
   ]
  },
  {
   "cell_type": "code",
   "execution_count": 16,
   "id": "70ceeb33",
   "metadata": {
    "scrolled": true
   },
   "outputs": [],
   "source": [
    "# Crear columna con la región correspondiente según clasificación del DANE\n",
    "df_secop = df_secop.withColumn(\"Region\", traductor(dict_reg)(\"Departamento_Entidad\"))"
   ]
  },
  {
   "cell_type": "code",
   "execution_count": 17,
   "id": "d7a1eb4a",
   "metadata": {},
   "outputs": [],
   "source": [
    "# Modificar columna Departamento_Entidad con el nombre del departamenteo según el DANE\n",
    "df_secop = df_secop.withColumn(\"Departamento_Entidad_DANE\", traductor(dict_dpto)(\"Departamento_Entidad\"))"
   ]
  },
  {
   "cell_type": "code",
   "execution_count": 18,
   "id": "7d22c600",
   "metadata": {},
   "outputs": [],
   "source": [
    "# Eliminar columnas original Departamento Entidad y actualizar nombre\n",
    "#columnas_drop = ('Departamento_Entidad')\n",
    "df_secop = df_secop.drop(*columnas_drop)"
   ]
  },
  {
   "cell_type": "markdown",
   "id": "e9ed2e79",
   "metadata": {},
   "source": [
    "### 3.5 Eliminar filas de datos no requeridos"
   ]
  },
  {
   "cell_type": "code",
   "execution_count": 19,
   "id": "e9b04d2f",
   "metadata": {},
   "outputs": [],
   "source": [
    "# Dejar Estado del Proceso = Celebrado, Liquidado, Terminado sin Liquidar\n",
    "df_secop = df_secop.where((df_secop.Estado_Proceso == 'Celebrado') | (df_secop.Estado_Proceso == 'Liquidado') | \\\n",
    "                          (df_secop.Estado_Proceso == 'Terminado sin Liquidar'))"
   ]
  },
  {
   "cell_type": "code",
   "execution_count": 20,
   "id": "4737386c",
   "metadata": {},
   "outputs": [],
   "source": [
    "# Dejar moneda = No definido y Peso Colombiano\n",
    "df_secop = df_secop.where((df_secop.Moneda == 'No Definido') | (df_secop.Moneda == 'Peso Colombiano'))"
   ]
  },
  {
   "cell_type": "code",
   "execution_count": 21,
   "id": "24875b00",
   "metadata": {},
   "outputs": [],
   "source": [
    "# Eliminar Anno_Cargue_SECOP = 0 (8 registros)\n",
    "df_secop = df_secop.where((df_secop.Anno_Cargue_SECOP != 0))"
   ]
  },
  {
   "cell_type": "code",
   "execution_count": 22,
   "id": "71c6fa9c",
   "metadata": {},
   "outputs": [],
   "source": [
    "# Eliminar Tipo de contrato = Consultoría, Crédito, Fiducia, Interventoría\n",
    "df_secop = df_secop.where((df_secop.Tipo_Contrato != 'Consultoría') | (df_secop.Tipo_Contrato != 'Crédito') | \\\n",
    "                          (df_secop.Tipo_Contrato != 'Fiducia') | (df_secop.Tipo_Contrato != 'Interventoría'))"
   ]
  },
  {
   "cell_type": "code",
   "execution_count": 23,
   "id": "f1a9a9f5",
   "metadata": {},
   "outputs": [],
   "source": [
    "# Eliminar Departamentos = No definido y Colombia\n",
    "df_secop = df_secop.where((df_secop.Departamento_Entidad_DANE != 'No Definido') | (df_secop.Departamento_Entidad_DANE != 'Colombia'))"
   ]
  },
  {
   "cell_type": "code",
   "execution_count": 24,
   "id": "415dc1ff",
   "metadata": {},
   "outputs": [
    {
     "name": "stdout",
     "output_type": "stream",
     "text": [
      "root\n",
      " |-- UID: string (nullable = false)\n",
      " |-- Anno_Cargue_SECOP: integer (nullable = true)\n",
      " |-- Anno_Firma_Contrato: integer (nullable = true)\n",
      " |-- Nivel_Entidad: string (nullable = false)\n",
      " |-- Orden_Entidad: string (nullable = false)\n",
      " |-- Tipo_Proceso: string (nullable = false)\n",
      " |-- Estado_Proceso: string (nullable = false)\n",
      " |-- Objeto_Contratar: string (nullable = false)\n",
      " |-- Detalle_Objeto_Contratar: string (nullable = false)\n",
      " |-- Tipo_Contrato: string (nullable = false)\n",
      " |-- Nombre_Grupo: string (nullable = false)\n",
      " |-- Nombre_Familia: string (nullable = false)\n",
      " |-- Nombre_Clase: string (nullable = false)\n",
      " |-- Plazo_Ejec_Contrato: integer (nullable = true)\n",
      " |-- Rango_Ejec_Contrato: string (nullable = false)\n",
      " |-- Tiempo_Adiciones_Dias: integer (nullable = true)\n",
      " |-- Tiempo_Adiciones_Meses: integer (nullable = true)\n",
      " |-- Objeto_Contrato_firmado: string (nullable = false)\n",
      " |-- Moneda: string (nullable = false)\n",
      " |-- Departamento_Entidad: string (nullable = false)\n",
      " |-- Cuantia_Proceso_Int: long (nullable = true)\n",
      " |-- Cuantia_Contrato_Int: long (nullable = true)\n",
      " |-- Valor_Contrato_Total_Int: long (nullable = true)\n",
      " |-- Anno_Inicio_Contrato: integer (nullable = true)\n",
      " |-- Anno_Fin_Contrato: integer (nullable = true)\n",
      " |-- Region: string (nullable = true)\n",
      " |-- Departamento_Entidad_DANE: string (nullable = true)\n",
      "\n"
     ]
    }
   ],
   "source": [
    "df_secop.printSchema()"
   ]
  },
  {
   "cell_type": "code",
   "execution_count": 25,
   "id": "3daf8cc2",
   "metadata": {},
   "outputs": [],
   "source": [
    "# Eliminar Tipos de contrato sin interés\n",
    "df_secop = df_secop.where((df_secop.Tipo_Proceso != 'Concurso de Méritos Abierto') | (df_secop.Tipo_Proceso != 'Concurso de Méritos con Lista Corta') | \\\n",
    "                          (df_secop.Tipo_Proceso != 'Concurso de Méritos con Lista Multiusos') | (df_secop.Tipo_Proceso != 'Concurso de diseño Arquitectónico') | \\\n",
    "                          (df_secop.Tipo_Proceso != 'Iniciativa Privada sin recursos públicos') | (df_secop.Tipo_Proceso != 'Lista Multiusos') | \\\n",
    "                          (df_secop.Tipo_Proceso != 'Llamado a presentar expresiones de interés'))"
   ]
  },
  {
   "cell_type": "markdown",
   "id": "657f119e",
   "metadata": {},
   "source": [
    "## 5 Solo contratos de obra"
   ]
  },
  {
   "cell_type": "code",
   "execution_count": 26,
   "id": "28fd7c72",
   "metadata": {},
   "outputs": [],
   "source": [
    "# Dejar tipo_contrato = Obra (486.949 registros)\n",
    "df_secop_obra = df_secop.where((df_secop.Tipo_Contrato == 'Obra'))\n",
    "#df_secop_obra.count()\n",
    "#377486"
   ]
  },
  {
   "cell_type": "code",
   "execution_count": null,
   "id": "8a2e8bd9",
   "metadata": {
    "scrolled": false
   },
   "outputs": [],
   "source": [
    "# Crear DataFrame en Pandas\n",
    "df_secop_obra = df_secop_obra.toPandas()"
   ]
  },
  {
   "cell_type": "code",
   "execution_count": null,
   "id": "10fd9c25",
   "metadata": {},
   "outputs": [],
   "source": [
    "# Guardar dataframe en formato csv\n",
    "df_secop_obra.to_csv('./df_secop_obra.csv')"
   ]
  },
  {
   "cell_type": "markdown",
   "id": "424b880b",
   "metadata": {},
   "source": [
    "# Cerrar sesión Spark"
   ]
  },
  {
   "cell_type": "code",
   "execution_count": null,
   "id": "23278427",
   "metadata": {},
   "outputs": [],
   "source": [
    "spark.stop()"
   ]
  }
 ],
 "metadata": {
  "kernelspec": {
   "display_name": "pyspark",
   "language": "python",
   "name": "pyspark_envm"
  },
  "language_info": {
   "codemirror_mode": {
    "name": "ipython",
    "version": 3
   },
   "file_extension": ".py",
   "mimetype": "text/x-python",
   "name": "python",
   "nbconvert_exporter": "python",
   "pygments_lexer": "ipython3",
   "version": "3.10.6"
  }
 },
 "nbformat": 4,
 "nbformat_minor": 5
}
